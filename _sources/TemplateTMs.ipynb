{
 "cells": [
  {
   "cell_type": "markdown",
   "id": "30e572e7-2788-43da-987d-c7076b08559a",
   "metadata": {},
   "source": [
    "# Turing Machines\n",
    "\n",
    "- a finite set of symbols (a.k.a., the *alphabet*)\n",
    "- a finite set of states\n",
    "- of these, an initial state and a set of accepting states\n",
    "- a set of transitions (if read S1, then write S2, and shift L/R)\n",
    "\n",
    "IsPrime <gif\n",
    "\n",
    "The Turing Machine which runs the longest before terminating, while using at most m symbols and n states, is called a \"Busy Beaver\", BB(m,n).\n",
    "BB(2,4) https://bbchallenge.org/1RB2LA1RA1RA_1LB1LA3RB1RZ"
   ]
  },
  {
   "cell_type": "code",
   "execution_count": null,
   "id": "112cee57-6ddd-4beb-a517-2abb0237b183",
   "metadata": {},
   "outputs": [],
   "source": []
  },
  {
   "cell_type": "markdown",
   "id": "12225163-169b-45a9-8f5f-f644b80ebb28",
   "metadata": {},
   "source": [
    "# Templates of Ghrist\n",
    "\n",
    "https://www.ams.org/journals/bull/1998-35-02/S0273-0979-98-00744-7/S0273-0979-98-00744-7.pdf\n",
    "https://www.pnas.org/doi/full/10.1073/pnas.2407997121\n",
    "\n",
    "continuous braid diagrams"
   ]
  },
  {
   "cell_type": "code",
   "execution_count": null,
   "id": "52ccb506-9de1-495b-8d18-a1cb5eec8b6b",
   "metadata": {},
   "outputs": [],
   "source": []
  },
  {
   "cell_type": "markdown",
   "id": "3996c1ee-3800-4325-b69a-99e23b0f95c0",
   "metadata": {},
   "source": [
    "# Template Turing Machines\n",
    "\n",
    "## The tape space"
   ]
  },
  {
   "cell_type": "code",
   "execution_count": null,
   "id": "59f082b4-6ffa-4137-ae82-01cdbdb1d8ed",
   "metadata": {},
   "outputs": [],
   "source": []
  }
 ],
 "metadata": {
  "kernelspec": {
   "display_name": "Python 3 (ipykernel)",
   "language": "python",
   "name": "python3"
  },
  "language_info": {
   "codemirror_mode": {
    "name": "ipython",
    "version": 3
   },
   "file_extension": ".py",
   "mimetype": "text/x-python",
   "name": "python",
   "nbconvert_exporter": "python",
   "pygments_lexer": "ipython3",
   "version": "3.13.1"
  }
 },
 "nbformat": 4,
 "nbformat_minor": 5
}
